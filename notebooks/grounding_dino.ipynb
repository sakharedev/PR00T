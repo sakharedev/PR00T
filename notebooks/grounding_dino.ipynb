{
 "cells": [
  {
   "cell_type": "code",
   "execution_count": 1,
   "id": "04a53b06",
   "metadata": {},
   "outputs": [
    {
     "name": "stdout",
     "output_type": "stream",
     "text": [
      "[Grounding] Loading model: IDEA-Research/grounding-dino-tiny\n"
     ]
    },
    {
     "name": "stderr",
     "output_type": "stream",
     "text": [
      "/home/mecha/.local/lib/python3.10/site-packages/huggingface_hub/file_download.py:943: FutureWarning: `resume_download` is deprecated and will be removed in version 1.0.0. Downloads always resume when possible. If you want to force a new download, use `force_download=True`.\n",
      "  warnings.warn(\n"
     ]
    },
    {
     "name": "stdout",
     "output_type": "stream",
     "text": [
      "[Grounding] Ready\n"
     ]
    },
    {
     "ename": "",
     "evalue": "",
     "output_type": "error",
     "traceback": [
      "\u001b[1;31mThe Kernel crashed while executing code in the current cell or a previous cell. \n",
      "\u001b[1;31mPlease review the code in the cell(s) to identify a possible cause of the failure. \n",
      "\u001b[1;31mClick <a href='https://aka.ms/vscodeJupyterKernelCrash'>here</a> for more info. \n",
      "\u001b[1;31mView Jupyter <a href='command:jupyter.viewOutput'>log</a> for further details."
     ]
    }
   ],
   "source": [
    "from pr00t.grounding import Grounding\n",
    "from PIL import Image\n",
    "import matplotlib.pyplot as plt\n",
    "\n",
    "# Initialize the grounding model\n",
    "gdino = Grounding()\n",
    "\n",
    "# Path to your test image\n",
    "image_path = \"./../images/industry.jpg\"  # Replace with a real image path\n",
    "image = Image.open(image_path).convert(\"RGB\")\n",
    "\n",
    "# Run grounding\n",
    "objects = gdino.detect(image_path,\"gear, object\")\n",
    "\n",
    "# Display results\n",
    "for obj in objects:\n",
    "    print(f\"[Detected] {obj['label']} ({obj['score']:.2f}) at {obj['box']}\")\n",
    "\n",
    "# Optionally visualize the boxes\n",
    "gdino.visualize(image, objects)\n"
   ]
  },
  {
   "cell_type": "code",
   "execution_count": null,
   "id": "08792d19",
   "metadata": {},
   "outputs": [],
   "source": []
  }
 ],
 "metadata": {
  "kernelspec": {
   "display_name": "pr00t",
   "language": "python",
   "name": "python3"
  },
  "language_info": {
   "codemirror_mode": {
    "name": "ipython",
    "version": 3
   },
   "file_extension": ".py",
   "mimetype": "text/x-python",
   "name": "python",
   "nbconvert_exporter": "python",
   "pygments_lexer": "ipython3",
   "version": "3.10.18"
  }
 },
 "nbformat": 4,
 "nbformat_minor": 5
}
