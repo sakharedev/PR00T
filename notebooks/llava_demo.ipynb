{
 "cells": [
  {
   "cell_type": "code",
   "execution_count": 1,
   "id": "8ac2145c",
   "metadata": {},
   "outputs": [],
   "source": [
    "from pr00t.llava_interface import LlavaInterface\n",
    "from IPython.display import Image, display"
   ]
  },
  {
   "cell_type": "code",
   "execution_count": 4,
   "id": "edb79e1d",
   "metadata": {},
   "outputs": [
    {
     "name": "stdout",
     "output_type": "stream",
     "text": [
      "[TinyLLaVA] Loading model: bczhou/tiny-llava-v1-hf\n"
     ]
    },
    {
     "name": "stderr",
     "output_type": "stream",
     "text": [
      "/home/mecha/.local/lib/python3.10/site-packages/huggingface_hub/file_download.py:943: FutureWarning: `resume_download` is deprecated and will be removed in version 1.0.0. Downloads always resume when possible. If you want to force a new download, use `force_download=True`.\n",
      "  warnings.warn(\n",
      "/home/mecha/miniconda3/envs/pr00t/lib/python3.10/site-packages/transformers/models/llava/configuration_llava.py:103: FutureWarning: The `vocab_size` argument is deprecated and will be removed in v4.42, since it can be inferred from the `text_config`. Passing this argument has no effect\n",
      "  warnings.warn(\n"
     ]
    },
    {
     "data": {
      "application/vnd.jupyter.widget-view+json": {
       "model_id": "c56277fabf91482286a7edf3d6df39ce",
       "version_major": 2,
       "version_minor": 0
      },
      "text/plain": [
       "Loading checkpoint shards:   0%|          | 0/2 [00:00<?, ?it/s]"
      ]
     },
     "metadata": {},
     "output_type": "display_data"
    },
    {
     "name": "stderr",
     "output_type": "stream",
     "text": [
      "Special tokens have been added in the vocabulary, make sure the associated word embeddings are fine-tuned or trained.\n"
     ]
    },
    {
     "name": "stdout",
     "output_type": "stream",
     "text": [
      "[TinyLLaVA] Model and processor ready.\n"
     ]
    },
    {
     "data": {
      "image/jpeg": "[encoded data removed]",
      "text/plain": [
       "<IPython.core.display.Image object>"
      ]
     },
     "metadata": {
      "image/jpeg": {
       "width": 300
      }
     },
     "output_type": "display_data"
    }
   ],
   "source": [
    "llava = LlavaInterface()\n",
    "\n",
    "image_path = \"./../images/clutter.jpeg\"\n",
    "question = (\n",
    "    \"describe all the objects in the image, (ps There are no scissors in the image, those are just the arms end effectors \"\n",
    ")\n",
    "display(Image(filename=image_path, width=300))\n",
    "response = llava.ask(image_path=image_path, question=question)"
   ]
  },
  {
   "cell_type": "code",
   "execution_count": 5,
   "id": "1de38087",
   "metadata": {},
   "outputs": [
    {
     "name": "stdout",
     "output_type": "stream",
     "text": [
      "The image features a desk with various electronic devices and objects on it.\n",
      "There are two monitors, one on the left side and the other on the right side of\n",
      "the desk. A keyboard is also present on the left side of the desk.   In addition\n",
      "to the electronic devices, there are several cell phones scattered around the\n",
      "desk. Some of these cell phones are placed on the left side, while others are on\n",
      "the right side of the desk. There are also two laptops on the desk, one on the\n",
      "left side and the other on the right side.   A mouse can be seen on the right\n",
      "side of the desk, and a book is placed on the left side of the desk. A cup is\n",
      "also visible on the left side of the desk.\n"
     ]
    }
   ],
   "source": [
    "import textwrap\n",
    "assistant_response = response.split(\"ASSISTANT:\", 1)[-1].strip()\n",
    "assistant_response = textwrap.fill(assistant_response, width=80)\n",
    "print(assistant_response)"
   ]
  },
  {
   "cell_type": "code",
   "execution_count": null,
   "id": "01e55884",
   "metadata": {},
   "outputs": [],
   "source": []
  }
 ],
 "metadata": {
  "kernelspec": {
   "display_name": "pr00t",
   "language": "python",
   "name": "python3"
  },
  "language_info": {
   "codemirror_mode": {
    "name": "ipython",
    "version": 3
   },
   "file_extension": ".py",
   "mimetype": "text/x-python",
   "name": "python",
   "nbconvert_exporter": "python",
   "pygments_lexer": "ipython3",
   "version": "3.10.18"
  }
 },
 "nbformat": 4,
 "nbformat_minor": 5
}
